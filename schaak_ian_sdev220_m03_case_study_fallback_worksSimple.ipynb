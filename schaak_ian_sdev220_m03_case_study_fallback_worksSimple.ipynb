{
 "cells": [
  {
   "cell_type": "code",
   "execution_count": 32,
   "id": "e2143088",
   "metadata": {},
   "outputs": [],
   "source": [
    "class vehicle():\n",
    "    pass"
   ]
  },
  {
   "cell_type": "code",
   "execution_count": 3,
   "id": "d66cffa2",
   "metadata": {},
   "outputs": [],
   "source": [
    "automobile = vehicle()"
   ]
  },
  {
   "cell_type": "code",
   "execution_count": 4,
   "id": "707e0784",
   "metadata": {},
   "outputs": [
    {
     "name": "stdout",
     "output_type": "stream",
     "text": [
      "please enter the make of your car. Toyota\n"
     ]
    }
   ],
   "source": [
    "automobile.make = input(\"please enter the make of your car. \")"
   ]
  },
  {
   "cell_type": "code",
   "execution_count": 5,
   "id": "c1939e29",
   "metadata": {},
   "outputs": [
    {
     "name": "stdout",
     "output_type": "stream",
     "text": [
      "please enter the year for your car. 2022\n"
     ]
    }
   ],
   "source": [
    "automobile.year = input(\"please enter the year for your car. \")"
   ]
  },
  {
   "cell_type": "code",
   "execution_count": 6,
   "id": "a1272453",
   "metadata": {},
   "outputs": [
    {
     "name": "stdout",
     "output_type": "stream",
     "text": [
      "please enter the model of your car. Corolla\n"
     ]
    }
   ],
   "source": [
    "automobile.model = input(\"please enter the model of your car. \")"
   ]
  },
  {
   "cell_type": "code",
   "execution_count": 15,
   "id": "90870ffc",
   "metadata": {},
   "outputs": [
    {
     "name": "stdout",
     "output_type": "stream",
     "text": [
      "does your car have 2 doors or 4? 4\n"
     ]
    }
   ],
   "source": [
    "automobile.doors = input(\"does your car have 2 doors or 4? \")"
   ]
  },
  {
   "cell_type": "code",
   "execution_count": 17,
   "id": "c78d8532",
   "metadata": {},
   "outputs": [
    {
     "name": "stdout",
     "output_type": "stream",
     "text": [
      "does your car have a sun roof or a solid roof? sun roof\n"
     ]
    }
   ],
   "source": [
    "automobile.roof = input(\"does your car have a sun roof or a solid roof? \")"
   ]
  },
  {
   "cell_type": "code",
   "execution_count": 30,
   "id": "7c61f38d",
   "metadata": {},
   "outputs": [
    {
     "name": "stdout",
     "output_type": "stream",
     "text": [
      "Year: 2022 \n",
      "Make: Toyota \n",
      "Model: Corolla \n",
      "Doors: 4 \n",
      "Roof: sun roof\n"
     ]
    }
   ],
   "source": [
    "print(\"Year: \"+automobile.year, \"\\nMake: \"+automobile.make, \"\\nModel: \"+automobile.model, \"\\nDoors: \"+automobile.doors, \"\\nRoof: \"+automobile.roof)"
   ]
  },
  {
   "cell_type": "code",
   "execution_count": null,
   "id": "89d84286",
   "metadata": {},
   "outputs": [],
   "source": []
  },
  {
   "cell_type": "code",
   "execution_count": null,
   "id": "080af131",
   "metadata": {},
   "outputs": [],
   "source": []
  }
 ],
 "metadata": {
  "kernelspec": {
   "display_name": "Python 3 (ipykernel)",
   "language": "python",
   "name": "python3"
  },
  "language_info": {
   "codemirror_mode": {
    "name": "ipython",
    "version": 3
   },
   "file_extension": ".py",
   "mimetype": "text/x-python",
   "name": "python",
   "nbconvert_exporter": "python",
   "pygments_lexer": "ipython3",
   "version": "3.9.12"
  }
 },
 "nbformat": 4,
 "nbformat_minor": 5
}
